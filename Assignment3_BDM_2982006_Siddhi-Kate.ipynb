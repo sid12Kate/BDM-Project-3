{
 "cells": [
  {
   "cell_type": "code",
   "execution_count": 1,
   "metadata": {},
   "outputs": [],
   "source": [
    "import csv\n",
    "with open('Day-1.txt', \"w\") as my_output_file:\n",
    "    with open('2019-03-01.csv', \"r\") as my_input_file:\n",
    "        [ my_output_file.write(\",\".join(row)+'\\n') for row in csv.reader(my_input_file)]\n",
    "    my_output_file.close()\n",
    "    "
   ]
  },
  {
   "cell_type": "code",
   "execution_count": 3,
   "metadata": {},
   "outputs": [],
   "source": [
    "import csv\n",
    "with open('Day-2.txt', \"w\") as my_output_file:\n",
    "    with open('2019-03-02.csv', \"r\") as my_input_file:\n",
    "        [ my_output_file.write(\", \".join(row)+'\\n') for row in csv.reader(my_input_file)]\n",
    "    my_output_file.close()"
   ]
  },
  {
   "cell_type": "code",
   "execution_count": 2,
   "metadata": {},
   "outputs": [
    {
     "name": "stdout",
     "output_type": "stream",
     "text": [
      "creating file log1.txt\n",
      "creating file log2.txt\n",
      "creating file log3.txt\n",
      "creating file log4.txt\n",
      "creating file log5.txt\n",
      "creating file log6.txt\n",
      "creating file log7.txt\n",
      "creating file log8.txt\n",
      "creating file log9.txt\n",
      "creating file log10.txt\n",
      "creating file log11.txt\n",
      "creating file log12.txt\n",
      "creating file log13.txt\n",
      "creating file log14.txt\n",
      "creating file log15.txt\n",
      "creating file log16.txt\n",
      "creating file log17.txt\n",
      "creating file log18.txt\n",
      "creating file log19.txt\n",
      "creating file log20.txt\n",
      "creating file log21.txt\n",
      "creating file log22.txt\n",
      "creating file log23.txt\n",
      "creating file log24.txt\n",
      "creating file log25.txt\n",
      "creating file log26.txt\n",
      "creating file log27.txt\n",
      "creating file log28.txt\n",
      "creating file log29.txt\n",
      "creating file log30.txt\n",
      "creating file log31.txt\n",
      "creating file log32.txt\n",
      "creating file log33.txt\n",
      "creating file log34.txt\n",
      "creating file log35.txt\n",
      "creating file log36.txt\n",
      "creating file log37.txt\n",
      "creating file log38.txt\n",
      "creating file log39.txt\n",
      "creating file log40.txt\n",
      "creating file log41.txt\n",
      "creating file log42.txt\n"
     ]
    },
    {
     "ename": "OSError",
     "evalue": "[Errno 28] No space left on device",
     "output_type": "error",
     "traceback": [
      "\u001b[0;31m---------------------------------------------------------------------------\u001b[0m",
      "\u001b[0;31mOSError\u001b[0m                                   Traceback (most recent call last)",
      "\u001b[0;32m<ipython-input-2-5a9e72a25772>\u001b[0m in \u001b[0;36m<module>\u001b[0;34m\u001b[0m\n\u001b[1;32m     29\u001b[0m         \u001b[0;32melse\u001b[0m\u001b[0;34m:\u001b[0m\u001b[0;34m\u001b[0m\u001b[0m\n\u001b[1;32m     30\u001b[0m             \u001b[0;32mwith\u001b[0m \u001b[0mopen\u001b[0m\u001b[0;34m(\u001b[0m\u001b[0;34m'Log/log{}.txt'\u001b[0m\u001b[0;34m.\u001b[0m\u001b[0mformat\u001b[0m\u001b[0;34m(\u001b[0m\u001b[0ma\u001b[0m\u001b[0;34m)\u001b[0m\u001b[0;34m,\u001b[0m \u001b[0;34m'w'\u001b[0m\u001b[0;34m)\u001b[0m \u001b[0;32mas\u001b[0m \u001b[0mwritefile\u001b[0m\u001b[0;34m:\u001b[0m\u001b[0;34m\u001b[0m\u001b[0m\n\u001b[0;32m---> 31\u001b[0;31m                     \u001b[0mwritefile\u001b[0m\u001b[0;34m.\u001b[0m\u001b[0mwrite\u001b[0m\u001b[0;34m(\u001b[0m\u001b[0;34m' '\u001b[0m\u001b[0;34m.\u001b[0m\u001b[0mjoin\u001b[0m\u001b[0;34m(\u001b[0m\u001b[0mline\u001b[0m \u001b[0;32mfor\u001b[0m \u001b[0mline\u001b[0m \u001b[0;32min\u001b[0m \u001b[0mlines_1\u001b[0m\u001b[0;34m[\u001b[0m\u001b[0mi_file1\u001b[0m\u001b[0;34m:\u001b[0m\u001b[0mj_file1\u001b[0m\u001b[0;34m]\u001b[0m\u001b[0;34m)\u001b[0m\u001b[0;34m)\u001b[0m\u001b[0;34m\u001b[0m\u001b[0m\n\u001b[0m\u001b[1;32m     32\u001b[0m             \u001b[0mi_file1\u001b[0m \u001b[0;34m=\u001b[0m \u001b[0mj_file1\u001b[0m\u001b[0;34m\u001b[0m\u001b[0m\n\u001b[1;32m     33\u001b[0m             \u001b[0mj_file1\u001b[0m \u001b[0;34m+=\u001b[0m \u001b[0;36m1000\u001b[0m\u001b[0;34m\u001b[0m\u001b[0m\n",
      "\u001b[0;31mOSError\u001b[0m: [Errno 28] No space left on device"
     ]
    },
    {
     "name": "stderr",
     "output_type": "stream",
     "text": [
      "ERROR:root:Invalid alias: The name clear can't be aliased because it is another magic command.\n",
      "ERROR:root:Invalid alias: The name more can't be aliased because it is another magic command.\n",
      "ERROR:root:Invalid alias: The name less can't be aliased because it is another magic command.\n",
      "ERROR:root:Invalid alias: The name man can't be aliased because it is another magic command.\n"
     ]
    }
   ],
   "source": [
    "import time\n",
    "a = 1\n",
    "with open('Day-1.txt', 'r') as file_1:\n",
    "    with open('Day-2.txt', 'r') as file_2:\n",
    "        lines_1 = file_1.readlines()\n",
    "        len_1 = len(lines_1)\n",
    "        lines_2 = file_2.readlines()\n",
    "        len_2 = len(lines_2)\n",
    "        i_file1 = 1\n",
    "        j_file1 = 1000\n",
    "        i_file2 = 1\n",
    "        j_file2 = 1000\n",
    "    while j_file1 != len_1 and j_file2 != len_2 :\n",
    "        if i_file1==1 and i_file2==1:\n",
    "             with open('Log/log{}.txt'.format(a), 'w') as writefile:\n",
    "                    writefile.write(' '.join(line for line in lines_1[i_file1:j_file1]))\n",
    "             i_file1 = j_file1\n",
    "             j_file1 += 1000\n",
    "             print('creating file log{}.txt'.format(a))\n",
    "             a += 1\n",
    "            \n",
    "             with open('Log/log{}.txt'.format(a), 'w') as writefile:\n",
    "                    writefile.write(' '.join(line for line in lines_2[i_file2:j_file2]))\n",
    "             i_file2 = j_file2\n",
    "             j_file2 += 1000\n",
    "             print('creating file log{}.txt'.format(a))\n",
    "             a += 1\n",
    "             time.sleep(5)\n",
    "        else:\n",
    "            with open('Log/log{}.txt'.format(a), 'w') as writefile:\n",
    "                    writefile.write(' '.join(line for line in lines_1[i_file1:j_file1]))\n",
    "            i_file1 = j_file1\n",
    "            j_file1 += 1000\n",
    "            print('creating file log{}.txt'.format(a))\n",
    "            a += 1\n",
    "            \n",
    "            with open('Log/log{}.txt'.format(a), 'w') as writefile:\n",
    "                    writefile.write(' '.join(line for line in lines_2[i_file2:j_file2]))\n",
    "            i_file2 = j_file2\n",
    "            j_file2 += 1000\n",
    "            print('creating file log{}.txt'.format(a))\n",
    "            a += 1\n",
    "            time.sleep(5)"
   ]
  },
  {
   "cell_type": "code",
   "execution_count": null,
   "metadata": {},
   "outputs": [],
   "source": []
  }
 ],
 "metadata": {
  "kernelspec": {
   "display_name": "Python 3",
   "language": "python",
   "name": "python3"
  },
  "language_info": {
   "codemirror_mode": {
    "name": "ipython",
    "version": 3
   },
   "file_extension": ".py",
   "mimetype": "text/x-python",
   "name": "python",
   "nbconvert_exporter": "python",
   "pygments_lexer": "ipython3",
   "version": "3.5.2"
  }
 },
 "nbformat": 4,
 "nbformat_minor": 2
}
